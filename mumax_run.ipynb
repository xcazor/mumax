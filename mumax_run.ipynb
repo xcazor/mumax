{
  "nbformat": 4,
  "nbformat_minor": 0,
  "metadata": {
    "colab": {
      "provenance": []
    },
    "kernelspec": {
      "name": "python3",
      "display_name": "Python 3"
    },
    "language_info": {
      "name": "python"
    },
    "accelerator": "GPU",
    "gpuClass": "standard"
  },
  "cells": [
    {
      "cell_type": "code",
      "execution_count": 4,
      "metadata": {
        "id": "bp3E6sshxJI2"
      },
      "outputs": [],
      "source": [
        "from google.colab import drive\n",
        "from google.colab import files"
      ]
    },
    {
      "cell_type": "code",
      "source": [
        "drive.mount('/content/drive')\n",
        "\n",
        "! echo \"This machine runs\" $(uname)\n",
        "\n",
        "# Download the mumax3 binary\n",
        "!wget https://mumax.ugent.be/mumax3-binaries/mumax3.10_linux_cuda10.1.tar.gz\n",
        "!tar -xvf mumax3.10_linux_cuda10.1.tar.gz\n",
        "!rm mumax3.10_linux_cuda10.1.tar.gz\n",
        "!rm -rf mumax3.10 && mv mumax3.10_linux_cuda10.1 mumax3.10\n",
        "\n",
        "#update the PATH environment variable\n",
        "import os\n",
        "os.environ['PATH'] += \":/content/mumax3.10\""
      ],
      "metadata": {
        "id": "ZjcFLe59yu8a"
      },
      "execution_count": null,
      "outputs": []
    },
    {
      "cell_type": "code",
      "source": [
        "# Download an examplary script\n",
        "!wget https://raw.githubusercontent.com/xcazor/mumax/main/fixed.mx3 -O fixed.mx3"
      ],
      "metadata": {
        "colab": {
          "base_uri": "https://localhost:8080/"
        },
        "id": "Qpqz7B0PyTi0",
        "outputId": "5744f903-961b-431e-894a-370d788a7a5f"
      },
      "execution_count": 2,
      "outputs": [
        {
          "output_type": "stream",
          "name": "stdout",
          "text": [
            "--2023-03-26 02:40:01--  https://raw.githubusercontent.com/xcazor/mumax/main/fixed.mx3\n",
            "Resolving raw.githubusercontent.com (raw.githubusercontent.com)... 185.199.108.133, 185.199.109.133, 185.199.110.133, ...\n",
            "Connecting to raw.githubusercontent.com (raw.githubusercontent.com)|185.199.108.133|:443... connected.\n",
            "HTTP request sent, awaiting response... 200 OK\n",
            "Length: 725 [text/plain]\n",
            "Saving to: ‘fixed.mx3’\n",
            "\n",
            "\rfixed.mx3             0%[                    ]       0  --.-KB/s               \rfixed.mx3           100%[===================>]     725  --.-KB/s    in 0s      \n",
            "\n",
            "2023-03-26 02:40:01 (47.6 MB/s) - ‘fixed.mx3’ saved [725/725]\n",
            "\n"
          ]
        }
      ]
    },
    {
      "cell_type": "code",
      "source": [
        "!mumax3 fixed.mx3"
      ],
      "metadata": {
        "colab": {
          "base_uri": "https://localhost:8080/"
        },
        "id": "GTwFISP9xdai",
        "outputId": "e25eacaa-dde5-4cdb-d127-e31156672aee"
      },
      "execution_count": 3,
      "outputs": [
        {
          "output_type": "stream",
          "name": "stdout",
          "text": [
            "//mumax 3.10 [linux_amd64 go1.14(gc) CUDA-10.1]\n",
            "//GPU info: Tesla T4(15101MB), CUDA Driver 12.0, cc=7.5, using cc=75 PTX\n",
            "//(c) Arne Vansteenkiste, Dynamat LAB, Ghent University, Belgium\n",
            "//This is free software without any warranty. See license.txt\n",
            "//********************************************************************//\n",
            "//  If you use mumax in any work or publication,                      //\n",
            "//  we kindly ask you to cite the references in references.bib        //\n",
            "//********************************************************************//\n",
            "//output directory: fixed.out/\n",
            "//starting GUI at http://127.0.0.1:35367\n",
            "sizeX := 160e-9\n",
            "sizeY := 80e-9\n",
            "sizeZ := 5e-9\n",
            "Nx := 64\n",
            "Ny := 32\n",
            "setgridsize(Nx, Ny, 1)\n",
            "setcellsize(sizeX/Nx, sizeY/Ny, sizeZ)\n",
            "setGeom(ellipse(sizeX, sizeY))\n",
            "// Initializing geometry 3 %\n",
            "// Initializing geometry 100 %\n",
            "Msat = 800e3\n",
            "Aex = 13e-12\n",
            "alpha = 0.01\n",
            "m = uniform(1, 0, 0)\n",
            "lambda = 1\n",
            "Pol = 0.5669\n",
            "epsilonprime = 0\n",
            "angle := 20\n",
            "px := cos(angle * pi / 180)\n",
            "py := sin(angle * pi / 180)\n",
            "fixedlayer = vector(px, py, 0)\n",
            "Jtot := -0.008\n",
            "area := sizeX * sizeY * pi / 4\n",
            "jc := Jtot / area\n",
            "J = vector(0, 0, jc)\n",
            "autosave(m, 100e-12)\n",
            "tableautosave(10e-12)\n",
            "run(1e-9)\n",
            "//Did not use cached kernel: open /tmp/mumax3kernel_[64 32 1]_[0 0 0]_[2.5e-09 2.5e-09 5e-09]_6_0 0.ovf: no such file or directory\n",
            "//Cached kernel: /tmp/mumax3kernel_[64 32 1]_[0 0 0]_[2.5e-09 2.5e-09 5e-09]_6_\n",
            "//********************************************************************//\n",
            "//Please cite the following references, relevant for your simulation. //\n",
            "//See bibtex file in output folder for justification.                 //\n",
            "//********************************************************************//\n",
            "//   * Vansteenkiste et al., AIP Adv. 4, 107133 (2014).\n"
          ]
        }
      ]
    },
    {
      "cell_type": "code",
      "source": [
        "\n",
        "!cp -r '/content/fixed.out' /content/drive/MyDrive/Colab_Notebooks/mumax/name"
      ],
      "metadata": {
        "id": "VvViZ7YryZpU"
      },
      "execution_count": 19,
      "outputs": []
    },
    {
      "cell_type": "code",
      "source": [],
      "metadata": {
        "id": "QxJGhNC2y2GU"
      },
      "execution_count": null,
      "outputs": []
    }
  ]
}
